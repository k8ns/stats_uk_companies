{
 "cells": [
  {
   "cell_type": "code",
   "execution_count": 2,
   "metadata": {},
   "outputs": [],
   "source": [
    "import pandas as pd\n",
    "import numpy as np\n",
    "from datetime import datetime"
   ]
  },
  {
   "cell_type": "code",
   "execution_count": 3,
   "metadata": {
    "scrolled": true
   },
   "outputs": [
    {
     "name": "stderr",
     "output_type": "stream",
     "text": [
      "/Users/ksopin/opt/anaconda3/lib/python3.8/site-packages/IPython/core/interactiveshell.py:3146: DtypeWarning: Columns (41,42,43,44,45,46,47,48,49,50,51,52) have mixed types.Specify dtype option on import or set low_memory=False.\n",
      "  has_raised = await self.run_ast_nodes(code_ast.body, cell_name,\n"
     ]
    }
   ],
   "source": [
    "companiesRaw = pd.read_csv('companies_raw.csv')"
   ]
  },
  {
   "cell_type": "code",
   "execution_count": 4,
   "metadata": {},
   "outputs": [
    {
     "data": {
      "text/plain": [
       "Index(['CompanyName', ' CompanyNumber', 'RegAddress.CareOf',\n",
       "       'RegAddress.POBox', 'RegAddress.AddressLine1',\n",
       "       ' RegAddress.AddressLine2', 'RegAddress.PostTown', 'RegAddress.County',\n",
       "       'RegAddress.Country', 'RegAddress.PostCode', 'CompanyCategory',\n",
       "       'CompanyStatus', 'CountryOfOrigin', 'DissolutionDate',\n",
       "       'IncorporationDate', 'Accounts.AccountRefDay',\n",
       "       'Accounts.AccountRefMonth', 'Accounts.NextDueDate',\n",
       "       'Accounts.LastMadeUpDate', 'Accounts.AccountCategory',\n",
       "       'Returns.NextDueDate', 'Returns.LastMadeUpDate',\n",
       "       'Mortgages.NumMortCharges', 'Mortgages.NumMortOutstanding',\n",
       "       'Mortgages.NumMortPartSatisfied', 'Mortgages.NumMortSatisfied',\n",
       "       'SICCode.SicText_1', 'SICCode.SicText_2', 'SICCode.SicText_3',\n",
       "       'SICCode.SicText_4', 'LimitedPartnerships.NumGenPartners',\n",
       "       'LimitedPartnerships.NumLimPartners', 'URI', 'PreviousName_1.CONDATE',\n",
       "       ' PreviousName_1.CompanyName', ' PreviousName_2.CONDATE',\n",
       "       ' PreviousName_2.CompanyName', 'PreviousName_3.CONDATE',\n",
       "       ' PreviousName_3.CompanyName', 'PreviousName_4.CONDATE',\n",
       "       ' PreviousName_4.CompanyName', 'PreviousName_5.CONDATE',\n",
       "       ' PreviousName_5.CompanyName', 'PreviousName_6.CONDATE',\n",
       "       ' PreviousName_6.CompanyName', 'PreviousName_7.CONDATE',\n",
       "       ' PreviousName_7.CompanyName', 'PreviousName_8.CONDATE',\n",
       "       ' PreviousName_8.CompanyName', 'PreviousName_9.CONDATE',\n",
       "       ' PreviousName_9.CompanyName', 'PreviousName_10.CONDATE',\n",
       "       ' PreviousName_10.CompanyName', 'ConfStmtNextDueDate',\n",
       "       ' ConfStmtLastMadeUpDate'],\n",
       "      dtype='object')"
      ]
     },
     "execution_count": 4,
     "metadata": {},
     "output_type": "execute_result"
    }
   ],
   "source": [
    "companiesRaw.columns"
   ]
  },
  {
   "cell_type": "code",
   "execution_count": 12,
   "metadata": {},
   "outputs": [
    {
     "name": "stderr",
     "output_type": "stream",
     "text": [
      "<ipython-input-12-1e48b195171e>:22: SettingWithCopyWarning: \n",
      "A value is trying to be set on a copy of a slice from a DataFrame.\n",
      "Try using .loc[row_indexer,col_indexer] = value instead\n",
      "\n",
      "See the caveats in the documentation: https://pandas.pydata.org/pandas-docs/stable/user_guide/indexing.html#returning-a-view-versus-a-copy\n",
      "  companies['Year'] = companies['IncorporationDate'].apply(dstrtiyint)\n"
     ]
    },
    {
     "data": {
      "text/html": [
       "<div>\n",
       "<style scoped>\n",
       "    .dataframe tbody tr th:only-of-type {\n",
       "        vertical-align: middle;\n",
       "    }\n",
       "\n",
       "    .dataframe tbody tr th {\n",
       "        vertical-align: top;\n",
       "    }\n",
       "\n",
       "    .dataframe thead th {\n",
       "        text-align: right;\n",
       "    }\n",
       "</style>\n",
       "<table border=\"1\" class=\"dataframe\">\n",
       "  <thead>\n",
       "    <tr style=\"text-align: right;\">\n",
       "      <th></th>\n",
       "      <th>City</th>\n",
       "      <th>Type</th>\n",
       "      <th>CountryOfOrigin</th>\n",
       "      <th>Status</th>\n",
       "      <th>Year</th>\n",
       "      <th>Date</th>\n",
       "      <th>SicCode</th>\n",
       "      <th>SicSector</th>\n",
       "      <th>SicDescription</th>\n",
       "    </tr>\n",
       "  </thead>\n",
       "  <tbody>\n",
       "    <tr>\n",
       "      <th>0</th>\n",
       "      <td>SHEFFIELD</td>\n",
       "      <td>Private Limited Company</td>\n",
       "      <td>United Kingdom</td>\n",
       "      <td>Active</td>\n",
       "      <td>2020</td>\n",
       "      <td>2020-07-29</td>\n",
       "      <td>78300</td>\n",
       "      <td>78</td>\n",
       "      <td>Human resources provision and management of hu...</td>\n",
       "    </tr>\n",
       "    <tr>\n",
       "      <th>1</th>\n",
       "      <td>LEEDS</td>\n",
       "      <td>Private Limited Company</td>\n",
       "      <td>United Kingdom</td>\n",
       "      <td>Active</td>\n",
       "      <td>2012</td>\n",
       "      <td>2012-09-11</td>\n",
       "      <td>99999</td>\n",
       "      <td>99</td>\n",
       "      <td>Dormant Company</td>\n",
       "    </tr>\n",
       "    <tr>\n",
       "      <th>2</th>\n",
       "      <td>ROMILEY</td>\n",
       "      <td>Private Limited Company</td>\n",
       "      <td>United Kingdom</td>\n",
       "      <td>Active</td>\n",
       "      <td>2018</td>\n",
       "      <td>2018-06-05</td>\n",
       "      <td>47710</td>\n",
       "      <td>47</td>\n",
       "      <td>Retail sale of clothing in specialised stores</td>\n",
       "    </tr>\n",
       "    <tr>\n",
       "      <th>3</th>\n",
       "      <td>LONDON</td>\n",
       "      <td>Private Limited Company</td>\n",
       "      <td>United Kingdom</td>\n",
       "      <td>Active</td>\n",
       "      <td>2018</td>\n",
       "      <td>2018-12-28</td>\n",
       "      <td>18129</td>\n",
       "      <td>18</td>\n",
       "      <td>Printing n.e.c.</td>\n",
       "    </tr>\n",
       "    <tr>\n",
       "      <th>4</th>\n",
       "      <td>CHINGFORD</td>\n",
       "      <td>Private Limited Company</td>\n",
       "      <td>United Kingdom</td>\n",
       "      <td>Active</td>\n",
       "      <td>2020</td>\n",
       "      <td>2020-01-14</td>\n",
       "      <td>90030</td>\n",
       "      <td>90</td>\n",
       "      <td>Artistic creation</td>\n",
       "    </tr>\n",
       "  </tbody>\n",
       "</table>\n",
       "</div>"
      ],
      "text/plain": [
       "        City                     Type CountryOfOrigin  Status  Year  \\\n",
       "0  SHEFFIELD  Private Limited Company  United Kingdom  Active  2020   \n",
       "1      LEEDS  Private Limited Company  United Kingdom  Active  2012   \n",
       "2    ROMILEY  Private Limited Company  United Kingdom  Active  2018   \n",
       "3     LONDON  Private Limited Company  United Kingdom  Active  2018   \n",
       "4  CHINGFORD  Private Limited Company  United Kingdom  Active  2020   \n",
       "\n",
       "        Date SicCode SicSector  \\\n",
       "0 2020-07-29   78300        78   \n",
       "1 2012-09-11   99999        99   \n",
       "2 2018-06-05   47710        47   \n",
       "3 2018-12-28   18129        18   \n",
       "4 2020-01-14   90030        90   \n",
       "\n",
       "                                      SicDescription  \n",
       "0  Human resources provision and management of hu...  \n",
       "1                                    Dormant Company  \n",
       "2      Retail sale of clothing in specialised stores  \n",
       "3                                    Printing n.e.c.  \n",
       "4                                  Artistic creation  "
      ]
     },
     "execution_count": 12,
     "metadata": {},
     "output_type": "execute_result"
    }
   ],
   "source": [
    "def dstrtiyint(x):\n",
    "    atetime_object = datetime.strptime(x, '%d/%m/%Y')\n",
    "    return atetime_object.year\n",
    "\n",
    "def sicCode(x):\n",
    "    return x.split(\" \")[0]\n",
    "\n",
    "def sicDescription(x):\n",
    "    els = x.split(\"-\")\n",
    "    return els[len(els)-1].strip()\n",
    "\n",
    "def sicSector(x):\n",
    "    return x[0:2]\n",
    "\n",
    "companies = companiesRaw[['RegAddress.PostTown',                           \n",
    "                          'CompanyCategory', 'CountryOfOrigin', \n",
    "                          'CompanyStatus', 'IncorporationDate',\n",
    "                          'SICCode.SicText_1'\n",
    "                          ]]\n",
    "\n",
    "\n",
    "companies['Year'] = companies['IncorporationDate'].apply(dstrtiyint)\n",
    "companies = companies[companies['Year'] > 1970]\n",
    "\n",
    "\n",
    "\n",
    "companies['Date'] = pd.to_datetime(companies['IncorporationDate'], format='%d/%m/%Y')\n",
    "companies = companies.drop(columns=['IncorporationDate'])\n",
    "companies = companies.rename(columns={\"RegAddress.PostTown\": \"City\", \"CompanyCategory\": \"Type\",\n",
    "                         \"CompanyStatus\":\"Status\", \"SICCode.SicText_1\":\"Sic\"})\n",
    "companies['SicCode'] = companies['Sic'].apply(sicCode)\n",
    "companies['SicSector'] = companies['SicCode'].apply(sicSector)\n",
    "companies['SicDescription'] = companies['Sic'].apply(sicDescription)\n",
    "companies = companies.drop(columns=['Sic'])\n",
    "companies.head()\n",
    "\n"
   ]
  },
  {
   "cell_type": "code",
   "execution_count": 9,
   "metadata": {},
   "outputs": [
    {
     "data": {
      "text/plain": [
       "City                       object\n",
       "Type                       object\n",
       "CountryOfOrigin            object\n",
       "Status                     object\n",
       "Year                        int64\n",
       "Date               datetime64[ns]\n",
       "SicCode                    object\n",
       "SicSector                  object\n",
       "dtype: object"
      ]
     },
     "execution_count": 9,
     "metadata": {},
     "output_type": "execute_result"
    }
   ],
   "source": [
    "companies.dtypes"
   ]
  },
  {
   "cell_type": "markdown",
   "metadata": {},
   "source": [
    "### Save Data to file"
   ]
  },
  {
   "cell_type": "code",
   "execution_count": 13,
   "metadata": {},
   "outputs": [],
   "source": [
    "companies.to_csv('companies.csv', index=False)"
   ]
  }
 ],
 "metadata": {
  "kernelspec": {
   "display_name": "Python 3",
   "language": "python",
   "name": "python3"
  },
  "language_info": {
   "codemirror_mode": {
    "name": "ipython",
    "version": 3
   },
   "file_extension": ".py",
   "mimetype": "text/x-python",
   "name": "python",
   "nbconvert_exporter": "python",
   "pygments_lexer": "ipython3",
   "version": "3.8.5"
  }
 },
 "nbformat": 4,
 "nbformat_minor": 4
}
